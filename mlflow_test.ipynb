{
 "cells": [
  {
   "cell_type": "markdown",
   "metadata": {},
   "source": [
    "## Trying out MLFlow"
   ]
  },
  {
   "cell_type": "markdown",
   "metadata": {},
   "source": [
    "### Imports"
   ]
  },
  {
   "cell_type": "markdown",
   "metadata": {},
   "source": []
  },
  {
   "cell_type": "code",
   "execution_count": 12,
   "metadata": {},
   "outputs": [],
   "source": [
    "import os\n",
    "import torch\n",
    "import random as r\n",
    "import pandas as pd\n",
    "from tqdm import tqdm\n",
    "from matplotlib import pyplot as plt\n",
    "\n",
    "from torch import nn\n",
    "from torch.utils.data import DataLoader\n",
    "from torchvision import transforms\n",
    "from torchvision.datasets import ImageFolder"
   ]
  },
  {
   "cell_type": "markdown",
   "metadata": {},
   "source": [
    "### Model"
   ]
  },
  {
   "cell_type": "code",
   "execution_count": 11,
   "metadata": {},
   "outputs": [],
   "source": [
    "class LeNet5(nn.Module):\n",
    "    def __init__(self):\n",
    "        super(LeNet5, self).__init__()\n",
    "        \n",
    "        self.conv1 = nn.Conv2d(1, 6, kernel_size=5, stride=1, padding=0) \n",
    "        self.conv2 = nn.Conv2d(6, 16, kernel_size=5, stride=1, padding=0)\n",
    "        self.fc1 = nn.Linear(16*4*4, 64)\n",
    "        self.fc2 = nn.Linear(64, 32)\n",
    "        self.fc3 = nn.Linear(32, 10)\n",
    "        self.relu = nn.ReLU()\n",
    "        self.pool = nn.MaxPool2d(kernel_size=2, stride=2, padding=0)\n",
    "\n",
    "    def forward(self, x):\n",
    "        \n",
    "        x = self.pool(self.relu(self.conv1(x))) # 1x28x28 -> 6x24x24 -> 6x12x12\n",
    "        x = self.pool(self.relu(self.conv2(x))) # 6x12x12 -> 16x8x8 -> 16x4x4\n",
    "        x = x.view(-1, 16*4*4) # 16x4x4 -> 256\n",
    "        x = self.relu(self.fc1(x)) # 256 -> 64\n",
    "        x = self.relu(self.fc2(x)) # 64 -> 32\n",
    "        x = self.fc3(x) # 32 -> 10\n",
    "        return x"
   ]
  },
  {
   "cell_type": "markdown",
   "metadata": {},
   "source": [
    "### Helper Functions"
   ]
  },
  {
   "cell_type": "code",
   "execution_count": 16,
   "metadata": {},
   "outputs": [],
   "source": [
    "train_dataset = ImageFolder(\"data/training\", transform=transforms.Compose([\n",
    "    transforms.Grayscale(num_output_channels=1),\n",
    "    transforms.Resize((28, 28)),\n",
    "    transforms.RandomRotation(10),\n",
    "    transforms.ToTensor()\n",
    "]))\n",
    "\n",
    "test_dataset = ImageFolder(\"data/testing\", transform=transforms.Compose([\n",
    "    transforms.Grayscale(num_output_channels=1),\n",
    "    transforms.Resize((28, 28)),\n",
    "    transforms.ToTensor()\n",
    "]))"
   ]
  },
  {
   "cell_type": "code",
   "execution_count": 17,
   "metadata": {},
   "outputs": [],
   "source": [
    "def train_epoch(model:nn.Module, device, train_loader, criterion, optimizer):\n",
    "    model.train()\n",
    "    train_loss_epoch = 0\n",
    "    train_acc_epoch = 0\n",
    "    for x, y in tqdm(train_loader):\n",
    "        x, y = x.to(device), y.to(device)\n",
    "        optimizer.zero_grad()\n",
    "        y_pred = model(x)\n",
    "        loss = criterion(y_pred, y)\n",
    "        loss.backward()\n",
    "        optimizer.step()\n",
    "        train_loss_epoch += loss.item()\n",
    "        train_acc_epoch += (y_pred.argmax(1) == y).float().item()\n",
    "    return train_loss_epoch / len(train_loader), train_acc_epoch / len(train_loader)\n",
    "\n",
    "def test_epoch(model:nn.Module, device, test_loader, criterion):\n",
    "    model.eval()\n",
    "    test_loss_epoch = 0\n",
    "    test_acc_epoch = 0\n",
    "    for x, y in tqdm(test_loader):\n",
    "        x, y = x.to(device), y.to(device)\n",
    "        y_pred = model(x)\n",
    "        loss = criterion(y_pred, y)\n",
    "        test_loss_epoch += loss.item()\n",
    "        test_acc_epoch += (y_pred.argmax(1) == y).float().item()\n",
    "    return test_loss_epoch / len(test_loader), test_acc_epoch / len(test_loader)"
   ]
  },
  {
   "cell_type": "code",
   "execution_count": 18,
   "metadata": {},
   "outputs": [],
   "source": [
    "def train(model:nn.Module, device, train_loader, test_loader, criterion, optimizer, epochs):\n",
    "    os.makedirs(\"models\", exist_ok=True)\n",
    "    os.makedirs(\"results\", exist_ok=True)\n",
    "    model.to(device)\n",
    "    train_loss = []\n",
    "    train_acc = []\n",
    "    test_loss = []\n",
    "    test_acc = []\n",
    "    best_acc = 0\n",
    "    best_acc_epoch = 0\n",
    "    best_loss = float(\"inf\")\n",
    "    best_loss_epoch = 0\n",
    "    for epoch in range(epochs):\n",
    "        print(f\"Epoch {epoch+1}/{epochs}:\")\n",
    "        train_loss_epoch, train_acc_epoch = train_epoch(model, device, train_loader, criterion, optimizer)\n",
    "        print(f\"Train loss: {train_loss_epoch}, Train accuracy: {train_acc_epoch}\")\n",
    "        test_loss_epoch, test_acc_epoch = test_epoch(model, device, test_loader, criterion)\n",
    "        print(f\"Test loss: {test_loss_epoch}, Test accuracy: {test_acc_epoch}\")\n",
    "        train_loss.append(train_loss_epoch)\n",
    "        train_acc.append(train_acc_epoch)\n",
    "        test_loss.append(test_loss_epoch)\n",
    "        test_acc.append(test_acc_epoch)\n",
    "        epoch_stats = pd.DataFrame({\n",
    "            \"train_loss\": train_loss,\n",
    "            \"train_acc\": train_acc,\n",
    "            \"test_loss\": test_loss,\n",
    "            \"test_acc\": test_acc\n",
    "        }, index=range(1, epoch+2))\n",
    "        epoch_stats.to_csv(\"results/epoch_stats.csv\")\n",
    "        \n",
    "        if test_acc_epoch > best_acc:\n",
    "            torch.save(model.state_dict(), f\"models/best_acc_model.pth\")\n",
    "            best_acc = test_acc_epoch\n",
    "            best_acc_epoch = epoch + 1\n",
    "            \n",
    "        if test_loss_epoch < best_loss:\n",
    "            torch.save(model.state_dict(), \"models/best_loss_model.pth\")\n",
    "            best_loss = test_loss_epoch\n",
    "            best_loss_epoch = epoch + 1\n",
    "        general_stats = pd.DataFrame({\n",
    "            \"best_acc\": [best_acc],\n",
    "            \"best_acc_epoch\": [best_acc_epoch],\n",
    "            \"best_loss\": [best_loss],\n",
    "            \"best_loss_epoch\": [best_loss_epoch]\n",
    "        })\n",
    "        general_stats.to_csv(\"results/general_stats.csv\")\n",
    "    "
   ]
  },
  {
   "cell_type": "code",
   "execution_count": 31,
   "metadata": {},
   "outputs": [],
   "source": [
    "def predict_one(model:nn.Module, device, x):\n",
    "    model.to(device)\n",
    "    model.eval()\n",
    "    with torch.no_grad():\n",
    "        x = x.to(device)\n",
    "        y_pred = model(x.unsqueeze(0))\n",
    "        return y_pred.argmax(1).item()"
   ]
  },
  {
   "cell_type": "markdown",
   "metadata": {},
   "source": [
    "### Training Code"
   ]
  },
  {
   "cell_type": "code",
   "execution_count": null,
   "metadata": {},
   "outputs": [],
   "source": [
    "train_loader = DataLoader(train_dataset, batch_size=1, shuffle=True)\n",
    "test_loader = DataLoader(test_dataset, batch_size=1, shuffle=False)"
   ]
  },
  {
   "cell_type": "code",
   "execution_count": null,
   "metadata": {},
   "outputs": [],
   "source": [
    "random_num = r.randint(0, 10000)\n",
    "test_image, test_label = test_dataset[random_num]\n",
    "\n",
    "plt.imshow(test_image, cmap=\"gray\")\n",
    "plt.title(f\"True label: {test_label}\")\n",
    "plt.show()"
   ]
  },
  {
   "cell_type": "code",
   "execution_count": null,
   "metadata": {},
   "outputs": [],
   "source": [
    "model = LeNet5()\n",
    "device = \"cuda\" if torch.cuda.is_available() else \"cpu\"\n",
    "\n",
    "\n",
    "num_epochs = 10\n",
    "\n",
    "criterion = nn.CrossEntropyLoss()\n",
    "optimizer = torch.optim.Adam(model.parameters(), lr=0.0001)"
   ]
  },
  {
   "cell_type": "code",
   "execution_count": null,
   "metadata": {},
   "outputs": [],
   "source": [
    "train(model, device, train_loader, test_loader, criterion, optimizer, num_epochs)"
   ]
  },
  {
   "cell_type": "code",
   "execution_count": null,
   "metadata": {},
   "outputs": [],
   "source": [
    "prediction = predict_one(model, device, test_image)\n",
    "\n",
    "plt.imshow(test_image, cmap=\"gray\")\n",
    "plt.title(f\"True label: {test_label}, Predicted label: {prediction}\")\n",
    "plt.show()"
   ]
  },
  {
   "cell_type": "markdown",
   "metadata": {},
   "source": [
    "### Prediction Code"
   ]
  },
  {
   "cell_type": "code",
   "execution_count": 46,
   "metadata": {},
   "outputs": [
    {
     "data": {
      "image/png": "[encoded data removed]",
      "text/plain": [
       "<Figure size 640x480 with 1 Axes>"
      ]
     },
     "metadata": {},
     "output_type": "display_data"
    }
   ],
   "source": [
    "model = LeNet5()\n",
    "\n",
    "state_dict = torch.load(\"models/best_acc_model.pth\")\n",
    "model.load_state_dict(state_dict)\n",
    "\n",
    "device = \"cuda\" if torch.cuda.is_available() else \"cpu\"\n",
    "\n",
    "random_num = r.randint(0, 10000)\n",
    "test_image, test_label = test_dataset[random_num]\n",
    "\n",
    "prediction = predict_one(model, device, test_image)\n",
    "\n",
    "plt.imshow(test_image[0], cmap=\"gray\")\n",
    "plt.title(f\"True label: {test_label}, Predicted label: {prediction}\")\n",
    "plt.show()\n"
   ]
  }
 ],
 "metadata": {
  "kernelspec": {
   "display_name": ".venv",
   "language": "python",
   "name": "python3"
  },
  "language_info": {
   "codemirror_mode": {
    "name": "ipython",
    "version": 3
   },
   "file_extension": ".py",
   "mimetype": "text/x-python",
   "name": "python",
   "nbconvert_exporter": "python",
   "pygments_lexer": "ipython3",
   "version": "3.10.8"
  }
 },
 "nbformat": 4,
 "nbformat_minor": 2
}
